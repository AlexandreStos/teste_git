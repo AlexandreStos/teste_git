{
 "cells": [
  {
   "cell_type": "markdown",
   "id": "97033771-e720-450b-80e8-c3fb5ae3e449",
   "metadata": {},
   "source": [
    "## Teste para utilização do github no jupyter lab"
   ]
  },
  {
   "cell_type": "markdown",
   "id": "932ebc39-5669-4f74-89dd-f6b7e049f149",
   "metadata": {},
   "source": [
    "## Instalar dependencias necessárias"
   ]
  },
  {
   "cell_type": "markdown",
   "id": "2244e81d-64e4-42f5-9526-6b0a5c6aa8ea",
   "metadata": {},
   "source": [
    "### olhar no github do jupyterlab-git"
   ]
  },
  {
   "cell_type": "code",
   "execution_count": null,
   "id": "10f59944-297f-4b4d-835d-fc98ec9cd16b",
   "metadata": {},
   "outputs": [],
   "source": [
    "### intalar complemento e atualizar 'jupyterlab-git'"
   ]
  },
  {
   "cell_type": "code",
   "execution_count": 2,
   "id": "7fb90cf6-8b47-41b9-ad82-8127ea0bf69b",
   "metadata": {},
   "outputs": [],
   "source": [
    "import pandas as pd"
   ]
  },
  {
   "cell_type": "code",
   "execution_count": 3,
   "id": "ad4056f5-8da7-4fa7-a3cc-3e2bce8abbb0",
   "metadata": {},
   "outputs": [
    {
     "name": "stdout",
     "output_type": "stream",
     "text": [
      "Oi\n"
     ]
    }
   ],
   "source": [
    "print(\"Oi\")"
   ]
  },
  {
   "cell_type": "code",
   "execution_count": 4,
   "id": "ea4ce740-fd03-4ad6-94ab-dc6071376379",
   "metadata": {},
   "outputs": [],
   "source": [
    "import numpy as np\n"
   ]
  },
  {
   "cell_type": "code",
   "execution_count": null,
   "id": "b0b2c01e-faf1-4ee8-8242-c8a4007551cf",
   "metadata": {},
   "outputs": [],
   "source": []
  },
  {
   "cell_type": "code",
   "execution_count": null,
   "id": "775cf5d3-18dd-485a-9c32-7d927830b4ff",
   "metadata": {},
   "outputs": [],
   "source": []
  }
 ],
 "metadata": {
  "kernelspec": {
   "display_name": "Python 3 (ipykernel)",
   "language": "python",
   "name": "python3"
  },
  "language_info": {
   "codemirror_mode": {
    "name": "ipython",
    "version": 3
   },
   "file_extension": ".py",
   "mimetype": "text/x-python",
   "name": "python",
   "nbconvert_exporter": "python",
   "pygments_lexer": "ipython3",
   "version": "3.13.0"
  }
 },
 "nbformat": 4,
 "nbformat_minor": 5
}
